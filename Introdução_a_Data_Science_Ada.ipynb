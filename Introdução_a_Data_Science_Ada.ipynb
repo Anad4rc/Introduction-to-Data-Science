{
  "nbformat": 4,
  "nbformat_minor": 0,
  "metadata": {
    "colab": {
      "provenance": []
    },
    "kernelspec": {
      "name": "python3",
      "display_name": "Python 3"
    },
    "language_info": {
      "name": "python"
    }
  },
  "cells": [
    {
      "cell_type": "markdown",
      "source": [
        "# **Introduction to Data Science - Ada**"
      ],
      "metadata": {
        "id": "02TUWmzXbEQ7"
      }
    },
    {
      "cell_type": "markdown",
      "source": [
        "**Questão 13:** Faça um programa que peça um valor monetario e diminua-o em 15%. Seu programa deve imprimir a mensagem \"O novo valor é [valor]\"."
      ],
      "metadata": {
        "id": "3SnDUIIHa6TA"
      }
    },
    {
      "cell_type": "code",
      "execution_count": null,
      "metadata": {
        "id": "RJB9uefzJAqZ"
      },
      "outputs": [],
      "source": [
        "\n",
        "valor = float(input('Digite um valor: '))\n",
        "\n",
        "#x =  x - x*15/100\n",
        "result = valor - valor * (15/100)\n",
        "\n",
        "#print(f'O novo valor é {x}.')\n",
        "print('O novo valor é ',result)\n"
      ]
    },
    {
      "cell_type": "markdown",
      "source": [
        "**Questão 14:** Peça para o usuario digitar uma velocidade inicial(em m/s), uma posição inicial(em m) e um instante de tempo(em s) e imprima a posição de uma projetil nesse instante de tempo.\n",
        "\n",
        "**Use a fórmula mátematica:** <br>\n",
        "y(t) = y(0) + v(0)t + (g(t**2)/2)\n",
        "\n",
        "Onde g é a aceleração da gravidade(-10m/s), y(t) é a posição final, y(0) é a posição inicial, v(0) é a velocidade inicial e t é o instante de tempo."
      ],
      "metadata": {
        "id": "bnwBoPAMdmPN"
      }
    },
    {
      "cell_type": "code",
      "source": [
        "\n",
        "#variaveis e seus respectivos inputs\n",
        "v0 = float(input(\"Digite a velocidade inicial[em m\\s]: \"))    #velocidade_inicial\n",
        "y0 = float(input(\"Digite a posição inicial do projetil[em m]: \")) #posição inicial\n",
        "t = float(input(\"Digite o tempo[em s]: \")) #instante de tempo\n",
        "\n",
        "\"\"\"\n",
        ">> legenda\n",
        "\n",
        "m/s = metros por segundo\n",
        "m = metros\n",
        "s = segundos\n",
        "\"\"\"\n",
        "\n",
        "#calcula a posição do projetil no intervalo de tempo indicado\n",
        "p = v0 + (y0 * t) + (-10 * (t**2))/2\n",
        "\n",
        "print(\"A projeção do projetil no intervalo de tempo indicado é: \",p)\n",
        "\n",
        "\n",
        "\n",
        "\n",
        "\n",
        "\n",
        "\n",
        "\n"
      ],
      "metadata": {
        "id": "TWx4PGNJMPOp",
        "colab": {
          "base_uri": "https://localhost:8080/"
        },
        "outputId": "7a4fb23f-9c89-48b2-9f43-e389195da1f0"
      },
      "execution_count": 5,
      "outputs": [
        {
          "output_type": "stream",
          "name": "stdout",
          "text": [
            "Digite a velocidade inicial[em m\\s]: 12\n",
            "Digite a posição inicial do projetil[em m]: 5\n",
            "Digite o tempo[em s]: 2\n",
            "A projeção do projetil no intervalo de tempo indicado é:  2.0\n"
          ]
        }
      ]
    }
  ]
}